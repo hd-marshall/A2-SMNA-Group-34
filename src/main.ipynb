{
 "cells": [
  {
   "cell_type": "markdown",
   "id": "994cb609",
   "metadata": {},
   "source": [
    "# __Social Media and Network Analytics__"
   ]
  },
  {
   "cell_type": "markdown",
   "id": "4d42e114",
   "metadata": {},
   "source": [
    "### __EDA__"
   ]
  },
  {
   "cell_type": "code",
   "execution_count": null,
   "id": "0599cffc",
   "metadata": {
    "vscode": {
     "languageId": "plaintext"
    }
   },
   "outputs": [],
   "source": []
  },
  {
   "cell_type": "markdown",
   "id": "32841709",
   "metadata": {},
   "source": [
    "### __Preprocessing__"
   ]
  },
  {
   "cell_type": "code",
   "execution_count": null,
   "id": "75084118",
   "metadata": {
    "vscode": {
     "languageId": "plaintext"
    }
   },
   "outputs": [],
   "source": []
  },
  {
   "cell_type": "markdown",
   "id": "beba79cc",
   "metadata": {},
   "source": [
    "### __Sentiment Analysis__"
   ]
  },
  {
   "cell_type": "code",
   "execution_count": null,
   "id": "6cc7a475",
   "metadata": {
    "vscode": {
     "languageId": "plaintext"
    }
   },
   "outputs": [],
   "source": []
  },
  {
   "cell_type": "markdown",
   "id": "187a1d0c",
   "metadata": {},
   "source": [
    "### __Modelling__"
   ]
  },
  {
   "cell_type": "code",
   "execution_count": null,
   "id": "6c2619cd",
   "metadata": {
    "vscode": {
     "languageId": "plaintext"
    }
   },
   "outputs": [],
   "source": []
  }
 ],
 "metadata": {
  "language_info": {
   "name": "python"
  }
 },
 "nbformat": 4,
 "nbformat_minor": 5
}
