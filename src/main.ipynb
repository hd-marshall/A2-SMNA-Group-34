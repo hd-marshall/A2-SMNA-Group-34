{
 "cells": [
  {
   "cell_type": "markdown",
   "id": "994cb609",
   "metadata": {},
   "source": [
    "# __Social Media and Network Analytics__"
   ]
  },
  {
   "cell_type": "markdown",
   "id": "4d42e114",
   "metadata": {},
   "source": [
    "### __EDA__"
   ]
  },
  {
   "cell_type": "code",
   "execution_count": 19,
   "id": "0599cffc",
   "metadata": {},
   "outputs": [
    {
     "data": {
      "text/html": [
       "<div>\n",
       "<style scoped>\n",
       "    .dataframe tbody tr th:only-of-type {\n",
       "        vertical-align: middle;\n",
       "    }\n",
       "\n",
       "    .dataframe tbody tr th {\n",
       "        vertical-align: top;\n",
       "    }\n",
       "\n",
       "    .dataframe thead th {\n",
       "        text-align: right;\n",
       "    }\n",
       "</style>\n",
       "<table border=\"1\" class=\"dataframe\">\n",
       "  <thead>\n",
       "    <tr style=\"text-align: right;\">\n",
       "      <th></th>\n",
       "      <th>video_id</th>\n",
       "      <th>text</th>\n",
       "      <th>author</th>\n",
       "      <th>likes</th>\n",
       "      <th>date</th>\n",
       "      <th>time</th>\n",
       "      <th>year</th>\n",
       "      <th>met_gala_year</th>\n",
       "    </tr>\n",
       "  </thead>\n",
       "  <tbody>\n",
       "    <tr>\n",
       "      <th>0</th>\n",
       "      <td>iWS3oVeyjL4</td>\n",
       "      <td>30:07 I IMMEDIATELY thought the theme was the ...</td>\n",
       "      <td>@KindnessKillsNONDO</td>\n",
       "      <td>0</td>\n",
       "      <td>2025-05-14</td>\n",
       "      <td>11:00:00</td>\n",
       "      <td>2025</td>\n",
       "      <td>2025</td>\n",
       "    </tr>\n",
       "    <tr>\n",
       "      <th>1</th>\n",
       "      <td>iWS3oVeyjL4</td>\n",
       "      <td>nicki the best</td>\n",
       "      <td>@kaiwenro-s5z</td>\n",
       "      <td>0</td>\n",
       "      <td>2025-05-14</td>\n",
       "      <td>09:00:00</td>\n",
       "      <td>2025</td>\n",
       "      <td>2025</td>\n",
       "    </tr>\n",
       "    <tr>\n",
       "      <th>2</th>\n",
       "      <td>iWS3oVeyjL4</td>\n",
       "      <td>I love Ayo's look, the beading is stunning</td>\n",
       "      <td>@StelViri</td>\n",
       "      <td>0</td>\n",
       "      <td>2025-05-14</td>\n",
       "      <td>08:00:00</td>\n",
       "      <td>2025</td>\n",
       "      <td>2025</td>\n",
       "    </tr>\n",
       "    <tr>\n",
       "      <th>3</th>\n",
       "      <td>iWS3oVeyjL4</td>\n",
       "      <td>I wonder if people who wore more \"boring\" outf...</td>\n",
       "      <td>@mesnchz</td>\n",
       "      <td>0</td>\n",
       "      <td>2025-05-14</td>\n",
       "      <td>08:00:00</td>\n",
       "      <td>2025</td>\n",
       "      <td>2025</td>\n",
       "    </tr>\n",
       "    <tr>\n",
       "      <th>4</th>\n",
       "      <td>iWS3oVeyjL4</td>\n",
       "      <td>I've loved your channel for years but the amou...</td>\n",
       "      <td>@marie-clairewood</td>\n",
       "      <td>0</td>\n",
       "      <td>2025-05-14</td>\n",
       "      <td>06:00:00</td>\n",
       "      <td>2025</td>\n",
       "      <td>2025</td>\n",
       "    </tr>\n",
       "  </tbody>\n",
       "</table>\n",
       "</div>"
      ],
      "text/plain": [
       "      video_id                                               text  \\\n",
       "0  iWS3oVeyjL4  30:07 I IMMEDIATELY thought the theme was the ...   \n",
       "1  iWS3oVeyjL4                                     nicki the best   \n",
       "2  iWS3oVeyjL4         I love Ayo's look, the beading is stunning   \n",
       "3  iWS3oVeyjL4  I wonder if people who wore more \"boring\" outf...   \n",
       "4  iWS3oVeyjL4  I've loved your channel for years but the amou...   \n",
       "\n",
       "                author  likes        date      time  year  met_gala_year  \n",
       "0  @KindnessKillsNONDO      0  2025-05-14  11:00:00  2025           2025  \n",
       "1        @kaiwenro-s5z      0  2025-05-14  09:00:00  2025           2025  \n",
       "2            @StelViri      0  2025-05-14  08:00:00  2025           2025  \n",
       "3             @mesnchz      0  2025-05-14  08:00:00  2025           2025  \n",
       "4    @marie-clairewood      0  2025-05-14  06:00:00  2025           2025  "
      ]
     },
     "execution_count": 19,
     "metadata": {},
     "output_type": "execute_result"
    }
   ],
   "source": [
    "import pandas as pd\n",
    "\n",
    "youtube_df = pd.read_csv('../all_youtube_comments.csv')\n",
    "\n",
    "youtube_df.head(5)"
   ]
  },
  {
   "cell_type": "code",
   "execution_count": 20,
   "id": "3f37158f",
   "metadata": {},
   "outputs": [
    {
     "name": "stdout",
     "output_type": "stream",
     "text": [
      "YouTube Comments Count by Year:\n",
      "============================\n",
      " met_gala_year  count\n",
      "          2021    752\n",
      "          2022   2000\n",
      "          2023   2000\n",
      "          2024   1753\n",
      "          2025   3000\n",
      "\n",
      "\n"
     ]
    }
   ],
   "source": [
    "year_counts = youtube_df.groupby('met_gala_year').size().reset_index(name='count')\n",
    "\n",
    "year_counts = year_counts.sort_values('met_gala_year')\n",
    "\n",
    "print(\"YouTube Comments Count by Year:\")\n",
    "print(\"============================\")\n",
    "print(year_counts.to_string(index=False))\n",
    "print(\"\\n\")"
   ]
  },
  {
   "cell_type": "markdown",
   "id": "32841709",
   "metadata": {},
   "source": [
    "### __Preprocessing__"
   ]
  },
  {
   "cell_type": "code",
   "execution_count": null,
   "id": "75084118",
   "metadata": {},
   "outputs": [],
   "source": []
  },
  {
   "cell_type": "markdown",
   "id": "beba79cc",
   "metadata": {},
   "source": [
    "### __Sentiment Analysis__"
   ]
  },
  {
   "cell_type": "code",
   "execution_count": null,
   "id": "6cc7a475",
   "metadata": {},
   "outputs": [],
   "source": []
  },
  {
   "cell_type": "markdown",
   "id": "187a1d0c",
   "metadata": {},
   "source": [
    "### __Modelling__"
   ]
  },
  {
   "cell_type": "code",
   "execution_count": null,
   "id": "6c2619cd",
   "metadata": {},
   "outputs": [],
   "source": []
  }
 ],
 "metadata": {
  "kernelspec": {
   "display_name": "base",
   "language": "python",
   "name": "python3"
  },
  "language_info": {
   "codemirror_mode": {
    "name": "ipython",
    "version": 3
   },
   "file_extension": ".py",
   "mimetype": "text/x-python",
   "name": "python",
   "nbconvert_exporter": "python",
   "pygments_lexer": "ipython3",
   "version": "3.11.7"
  }
 },
 "nbformat": 4,
 "nbformat_minor": 5
}
