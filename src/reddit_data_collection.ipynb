{
 "cells": [
  {
   "cell_type": "code",
   "execution_count": 10,
   "id": "1a17c3c5",
   "metadata": {},
   "outputs": [
    {
     "name": "stdout",
     "output_type": "stream",
     "text": [
      "\n",
      "Saved 0 posts and 0 comments to metgala_popculturechat_2021.json\n"
     ]
    }
   ],
   "source": [
    "from redditClient import redditClient\n",
    "import datetime\n",
    "import json\n",
    "\n",
    "# --- CONFIG ---\n",
    "subreddit_name = \"popculturechat\"  # change if needed\n",
    "search_query = \"Met Gala\"\n",
    "output_filename = f\"metgala_{subreddit_name}_2021.json\"\n",
    "\n",
    "# --- TIME RANGE: May 1, 2023 to May 7, 2024 ---\n",
    "start_timestamp = int(datetime.datetime(2021, 5, 1).timestamp())\n",
    "end_timestamp = int(datetime.datetime(2021, 12, 31).timestamp())\n",
    "\n",
    "# --- INIT ---\n",
    "client = redditClient()\n",
    "subreddit = client.subreddit(subreddit_name)\n",
    "\n",
    "# --- COLLECT POSTS ---\n",
    "posts_data = []\n",
    "post_count = 0\n",
    "comment_count = 0\n",
    "\n",
    "for submission in subreddit.search(query=search_query, sort=\"top\", time_filter=\"all\", limit=None):\n",
    "    if start_timestamp <= submission.created_utc <= end_timestamp:\n",
    "        post = {\n",
    "            \"post_id\": submission.id,\n",
    "            \"title\": submission.title or \"\",\n",
    "            \"selftext\": submission.selftext or \"\",\n",
    "            \"score\": submission.score,\n",
    "            \"num_comments\": submission.num_comments,\n",
    "            \"created_utc\": submission.created_utc,\n",
    "            \"author\": str(submission.author) if submission.author else \"N/A\",\n",
    "            \"comments\": []\n",
    "        }\n",
    "\n",
    "        try:\n",
    "            submission.comments.replace_more(limit=0)\n",
    "            for comment in submission.comments.list():\n",
    "                post[\"comments\"].append({\n",
    "                    \"comment_id\": comment.id,\n",
    "                    \"body\": comment.body,\n",
    "                    \"score\": comment.score,\n",
    "                    \"created_utc\": comment.created_utc,\n",
    "                    \"author\": str(comment.author) if comment.author else \"N/A\"\n",
    "                })\n",
    "            comment_count += len(post[\"comments\"])\n",
    "        except:\n",
    "            pass\n",
    "\n",
    "        posts_data.append(post)\n",
    "        post_count += 1\n",
    "\n",
    "# --- SAVE ---\n",
    "with open(output_filename, \"w\", encoding=\"utf-8\") as f:\n",
    "    json.dump(posts_data, f, indent=2, ensure_ascii=False)\n",
    "\n",
    "print(f\"\\nSaved {post_count} posts and {comment_count} comments to {output_filename}\")\n"
   ]
  },
  {
   "cell_type": "code",
   "execution_count": 11,
   "id": "0f280805",
   "metadata": {},
   "outputs": [
    {
     "name": "stdout",
     "output_type": "stream",
     "text": [
      "\n",
      "Filename                                    Posts   Comments\n",
      "------------------------------------------------------------\n",
      "metgala_Fauxmoi_2021.json                      10       1149\n",
      "metgala_Fauxmoi_2022.json                      10       2056\n",
      "metgala_Fauxmoi_2023.json                      17       2232\n",
      "metgala_Fauxmoi_2024.json                       7        832\n",
      "metgala_Fauxmoi_2025.json                     165       8235\n",
      "metgala_popculturechat_2022.json                8        993\n",
      "metgala_popculturechat_2023.json               65       8709\n",
      "metgala_popculturechat_2024.json               69      11225\n",
      "metgala_popculturechat_2025.json              233      13380\n",
      "\n",
      " TOTAL\n",
      "All Files:     9\n",
      "Total Posts:   584\n",
      "Total Comments:48811\n"
     ]
    }
   ],
   "source": [
    " import os\n",
    "import json\n",
    "\n",
    "# --- CONFIG ---\n",
    "folder_path = \"metgala_data\" \n",
    "\n",
    "# --- INIT ---\n",
    "summary = []\n",
    "total_posts = 0\n",
    "total_comments = 0\n",
    "\n",
    "# --- PROCESS EACH JSON FILE ---\n",
    "for filename in os.listdir(folder_path):\n",
    "    if filename.endswith(\".json\"):\n",
    "        file_path = os.path.join(folder_path, filename)\n",
    "        with open(file_path, \"r\", encoding=\"utf-8\") as f:\n",
    "            data = json.load(f)\n",
    "\n",
    "        num_posts = len(data)\n",
    "        num_comments = sum(len(post.get(\"comments\", [])) for post in data)\n",
    "\n",
    "        total_posts += num_posts\n",
    "        total_comments += num_comments\n",
    "        summary.append((filename, num_posts, num_comments))\n",
    "\n",
    "# --- DISPLAY RESULTS ---\n",
    "print(f\"\\n{'Filename':40} {'Posts':>8} {'Comments':>10}\")\n",
    "print(\"-\" * 60)\n",
    "for file, posts, comments in sorted(summary):\n",
    "    print(f\"{file:40} {posts:>8} {comments:>10}\")\n",
    "\n",
    "print(\"\\n TOTAL\")\n",
    "print(f\"All Files:     {len(summary)}\")\n",
    "print(f\"Total Posts:   {total_posts}\")\n",
    "print(f\"Total Comments:{total_comments}\")\n"
   ]
  },
  {
   "cell_type": "code",
   "execution_count": null,
   "id": "b6126039",
   "metadata": {},
   "outputs": [],
   "source": []
  }
 ],
 "metadata": {
  "kernelspec": {
   "display_name": "Python 3",
   "language": "python",
   "name": "python3"
  },
  "language_info": {
   "codemirror_mode": {
    "name": "ipython",
    "version": 3
   },
   "file_extension": ".py",
   "mimetype": "text/x-python",
   "name": "python",
   "nbconvert_exporter": "python",
   "pygments_lexer": "ipython3",
   "version": "3.8.8"
  }
 },
 "nbformat": 4,
 "nbformat_minor": 5
}
